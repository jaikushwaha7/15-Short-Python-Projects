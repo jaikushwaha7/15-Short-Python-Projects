{
 "cells": [
  {
   "cell_type": "code",
   "execution_count": 2,
   "metadata": {},
   "outputs": [
    {
     "name": "stdout",
     "output_type": "stream",
     "text": [
      "Yesterday,an elephant that lived in India , went to the laundry and found a secret key\n"
     ]
    }
   ],
   "source": [
    "import random\n",
    "when = ['A few years ago','Yesterday','Last night','A long time ago', 'On 10th Feb']\n",
    "who = ['a rabbit', 'an elephant', 'a mouse', 'a turtle', 'a parrot']\n",
    "name = ['Ali', 'Miriam', 'Daniel', 'Hook','Starwalker']\n",
    "residence = ['Barcelona', 'India', 'Germany', 'Venice', 'England']\n",
    "went = ['cinema', 'university', 'seminar', 'school', 'laundry']\n",
    "happened = ['made a lot of friends', 'ate a burger', 'found a secret key', 'solved a mystery']\n",
    "print(random.choice(when)+','+random.choice(who)+' that lived in '+random.choice(residence)+' , went to the '+random.choice(went)+' and '+random.choice(happened))"
   ]
  },
  {
   "cell_type": "code",
   "execution_count": null,
   "metadata": {},
   "outputs": [],
   "source": []
  }
 ],
 "metadata": {
  "kernelspec": {
   "display_name": "python3.7",
   "language": "python",
   "name": "python3.7"
  },
  "language_info": {
   "codemirror_mode": {
    "name": "ipython",
    "version": 3
   },
   "file_extension": ".py",
   "mimetype": "text/x-python",
   "name": "python",
   "nbconvert_exporter": "python",
   "pygments_lexer": "ipython3",
   "version": "3.7.6"
  }
 },
 "nbformat": 4,
 "nbformat_minor": 4
}
