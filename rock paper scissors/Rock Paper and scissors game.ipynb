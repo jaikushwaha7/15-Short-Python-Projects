{
 "cells": [
  {
   "cell_type": "code",
   "execution_count": 3,
   "metadata": {},
   "outputs": [
    {
     "name": "stdout",
     "output_type": "stream",
     "text": [
      "Rock, Paper, Scissors?Rock\n",
      "You lose! Paper covers Rock\n",
      "Rock, Paper, Scissors?Paper\n",
      "Tie!\n",
      "Rock, Paper, Scissors?Paper\n",
      "Tie!\n",
      "Rock, Paper, Scissors?Paper\n",
      "Tie!\n",
      "Rock, Paper, Scissors?Paper\n",
      "Tie!\n",
      "Rock, Paper, Scissors?Scissors\n",
      "You win! Scissors cut Paper\n",
      "Rock, Paper, Scissors?end\n",
      "Final scores:\n",
      "CPU: 1\n",
      "Player: 1\n"
     ]
    }
   ],
   "source": [
    "import random\n",
    "choices = ['Rock','Paper','Scissors']\n",
    "computer = random.choice(choices)\n",
    "player =False\n",
    "cpu_score = 0\n",
    "player_score=0\n",
    "while True:\n",
    "    player = input('Rock, Paper, Scissors?').capitalize()\n",
    "    ## Conditions of rock paper and scissiors\n",
    "    if player==computer:\n",
    "        print('Tie!')\n",
    "    elif player=='Rock':\n",
    "        if computer=='Paper':\n",
    "                print('You lose!', computer, 'covers',player)\n",
    "                cpu_score+=1\n",
    "        else:\n",
    "                    print('You win!', player,'smashes',computer)\n",
    "                    player_score+=1\n",
    "    elif player=='Paper':\n",
    "        if computer == 'Scissors':\n",
    "                print('You lose!', computer, 'cut', player)\n",
    "                cpu_score+=1\n",
    "        else:\n",
    "                print('You win!', player, 'covers', computer)\n",
    "                player_score+=1\n",
    "    elif player=='Scissors':\n",
    "        if computer== 'Rock':\n",
    "            print('You lose!', computer, 'smashes', player)\n",
    "            cpu_score+=1\n",
    "        else:\n",
    "            print('You win!', player, 'cut', computer)\n",
    "            player_score+=1\n",
    "    elif player=='End':\n",
    "        print('Final scores:')\n",
    "        print(f'CPU: {cpu_score}')\n",
    "        print(f'Player: {player_score}')\n",
    "        break"
   ]
  },
  {
   "cell_type": "code",
   "execution_count": null,
   "metadata": {},
   "outputs": [],
   "source": []
  }
 ],
 "metadata": {
  "kernelspec": {
   "display_name": "python3.7",
   "language": "python",
   "name": "python3.7"
  },
  "language_info": {
   "codemirror_mode": {
    "name": "ipython",
    "version": 3
   },
   "file_extension": ".py",
   "mimetype": "text/x-python",
   "name": "python",
   "nbconvert_exporter": "python",
   "pygments_lexer": "ipython3",
   "version": "3.7.6"
  }
 },
 "nbformat": 4,
 "nbformat_minor": 4
}
