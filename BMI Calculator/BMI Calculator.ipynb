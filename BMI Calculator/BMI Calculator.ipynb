{
 "cells": [
  {
   "cell_type": "code",
   "execution_count": 6,
   "metadata": {},
   "outputs": [
    {
     "name": "stdout",
     "output_type": "stream",
     "text": [
      "Enter the height in centimeters: 180\n",
      "Enter the weight in Kgs: 90\n",
      "Your Body Mass Index is:  27.777777777777775\n",
      "You are overweight\n"
     ]
    }
   ],
   "source": [
    "Height = float(input('Enter the height in centimeters: '))\n",
    "Weight = float(input('Enter the weight in Kgs: '))\n",
    "Height = Height/100\n",
    "BMI = Weight/(Height*Height)\n",
    "print('Your Body Mass Index is: ', BMI)\n",
    "if(BMI>0):\n",
    "    if(BMI<=16):\n",
    "        print('You are severely underwight')\n",
    "    elif(BMI<=18.5):\n",
    "            print('Your are underweight')\n",
    "    elif(BMI<=25):\n",
    "            print('You are healthy')\n",
    "    elif(BMI<=30):\n",
    "            print('You are overweight')\n",
    "    else: print('You are severely Overweight')\n",
    "else: print('Enter valid details')"
   ]
  },
  {
   "cell_type": "code",
   "execution_count": null,
   "metadata": {},
   "outputs": [],
   "source": []
  }
 ],
 "metadata": {
  "kernelspec": {
   "display_name": "python3.7",
   "language": "python",
   "name": "python3.7"
  },
  "language_info": {
   "codemirror_mode": {
    "name": "ipython",
    "version": 3
   },
   "file_extension": ".py",
   "mimetype": "text/x-python",
   "name": "python",
   "nbconvert_exporter": "python",
   "pygments_lexer": "ipython3",
   "version": "3.7.6"
  }
 },
 "nbformat": 4,
 "nbformat_minor": 4
}
