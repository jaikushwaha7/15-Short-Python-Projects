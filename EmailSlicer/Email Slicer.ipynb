{
 "cells": [
  {
   "cell_type": "code",
   "execution_count": 4,
   "metadata": {},
   "outputs": [
    {
     "name": "stdout",
     "output_type": "stream",
     "text": [
      "Enter your email ID :jaikushwaha@gmail.com\n",
      "Your username is 'jaikushwaha' and your domain is 'gmail.com'\n"
     ]
    }
   ],
   "source": [
    "email = input('Enter your email ID :').strip()\n",
    "username  = email[:email.index('@')]\n",
    "domain_name = email[email.index('@')+1:]\n",
    "format_ = (f\"Your username is '{username}' and your domain is '{domain_name}'\")\n",
    "print(format_)"
   ]
  },
  {
   "cell_type": "code",
   "execution_count": 6,
   "metadata": {},
   "outputs": [],
   "source": [
    "def emailslicer():\n",
    "    email = input('Enter your email ID :').strip()\n",
    "    username  = email[:email.index('@')]\n",
    "    domain_name = email[email.index('@')+1:]\n",
    "    format_ = (f\"Your username is '{username}' and your domain is '{domain_name}'\")\n",
    "    print(format_)\n",
    "    "
   ]
  },
  {
   "cell_type": "code",
   "execution_count": 8,
   "metadata": {},
   "outputs": [
    {
     "name": "stdout",
     "output_type": "stream",
     "text": [
      "Enter your email ID :alankrita@gmail.com\n",
      "Your username is 'alankrita' and your domain is 'gmail.com'\n"
     ]
    }
   ],
   "source": [
    "emailslicer()"
   ]
  },
  {
   "cell_type": "code",
   "execution_count": null,
   "metadata": {},
   "outputs": [],
   "source": []
  }
 ],
 "metadata": {
  "kernelspec": {
   "display_name": "python3.7",
   "language": "python",
   "name": "python3.7"
  },
  "language_info": {
   "codemirror_mode": {
    "name": "ipython",
    "version": 3
   },
   "file_extension": ".py",
   "mimetype": "text/x-python",
   "name": "python",
   "nbconvert_exporter": "python",
   "pygments_lexer": "ipython3",
   "version": "3.7.6"
  }
 },
 "nbformat": 4,
 "nbformat_minor": 4
}
