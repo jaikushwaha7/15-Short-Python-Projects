{
 "cells": [
  {
   "cell_type": "code",
   "execution_count": 2,
   "metadata": {},
   "outputs": [
    {
     "name": "stdout",
     "output_type": "stream",
     "text": [
      "Enter a phrase: alankrita singh\n",
      " AS\n"
     ]
    }
   ],
   "source": [
    "user_input = str(input('Enter a phrase: '))\n",
    "text = user_input.split()\n",
    "a = ' '\n",
    "for i in text:\n",
    "    a = a+str(i[0]).upper()\n",
    "print(a)"
   ]
  },
  {
   "cell_type": "code",
   "execution_count": 4,
   "metadata": {},
   "outputs": [
    {
     "name": "stdout",
     "output_type": "stream",
     "text": [
      "Enter a phrase: jaiky kushwahaw\n",
      " KH\n"
     ]
    }
   ],
   "source": [
    "user_input = str(input('Enter a phrase: '))\n",
    "text = user_input.split()\n",
    "a = ' '\n",
    "for i in text:\n",
    "    a = a+str(i[3]).upper()\n",
    "print(a)"
   ]
  },
  {
   "cell_type": "code",
   "execution_count": null,
   "metadata": {},
   "outputs": [],
   "source": []
  }
 ],
 "metadata": {
  "kernelspec": {
   "display_name": "python3.7",
   "language": "python",
   "name": "python3.7"
  },
  "language_info": {
   "codemirror_mode": {
    "name": "ipython",
    "version": 3
   },
   "file_extension": ".py",
   "mimetype": "text/x-python",
   "name": "python",
   "nbconvert_exporter": "python",
   "pygments_lexer": "ipython3",
   "version": "3.7.6"
  }
 },
 "nbformat": 4,
 "nbformat_minor": 4
}
