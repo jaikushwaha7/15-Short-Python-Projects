{
 "cells": [
  {
   "cell_type": "code",
   "execution_count": 3,
   "metadata": {},
   "outputs": [
    {
     "name": "stdout",
     "output_type": "stream",
     "text": [
      "Guess the animal\n",
      "Which bear lives in the North Pole?asda\n",
      "Sorry Wrong Answer, try againasd\n",
      "Sorry Wrong Answer, try againasd\n",
      "The correct answer is : polar bear\n",
      "Which is fastest land animal?sac\n",
      "Sorry Wrong Answer, try againasd\n",
      "Sorry Wrong Answer, try againasd\n",
      "The correct answer is : Cheetah\n",
      "Which is the largest animal?ad\n",
      "Sorry Wrong Answer, try againsd\n",
      "Sorry Wrong Answer, try againsdf\n",
      "The correct answer is : Blue Whale\n",
      "Your score is: 0\n"
     ]
    }
   ],
   "source": [
    "def check_guess(guess, answer):\n",
    "    global score\n",
    "    still_guessing =True\n",
    "    attempt =0\n",
    "    while still_guessing and attempt<3:\n",
    "        if guess.lower()==answer.lower():\n",
    "            print('Correct Answer')\n",
    "            score = score+1\n",
    "            still_guessing =False\n",
    "        else:\n",
    "            if attempt<2:\n",
    "                guess = input('Sorry Wrong Answer, try again')\n",
    "            attempt = attempt +1\n",
    "        if attempt ==3:\n",
    "            print('The correct answer is :', answer)\n",
    "            \n",
    "score =0\n",
    "print('Guess the animal')\n",
    "guess1 = input('Which bear lives in the North Pole?')\n",
    "check_guess(guess1, 'polar bear')\n",
    "guess2= input('Which is fastest land animal?')\n",
    "check_guess(guess2, 'Cheetah')\n",
    "guess3= input('Which is the largest animal?')\n",
    "check_guess(guess3, 'Blue Whale')\n",
    "print('Your score is:', str(score))"
   ]
  },
  {
   "cell_type": "code",
   "execution_count": null,
   "metadata": {},
   "outputs": [],
   "source": []
  }
 ],
 "metadata": {
  "kernelspec": {
   "display_name": "python3.7",
   "language": "python",
   "name": "python3.7"
  },
  "language_info": {
   "codemirror_mode": {
    "name": "ipython",
    "version": 3
   },
   "file_extension": ".py",
   "mimetype": "text/x-python",
   "name": "python",
   "nbconvert_exporter": "python",
   "pygments_lexer": "ipython3",
   "version": "3.7.6"
  }
 },
 "nbformat": 4,
 "nbformat_minor": 4
}
