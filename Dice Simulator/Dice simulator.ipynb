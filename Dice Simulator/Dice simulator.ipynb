{
 "cells": [
  {
   "cell_type": "code",
   "execution_count": 1,
   "metadata": {},
   "outputs": [
    {
     "name": "stdout",
     "output_type": "stream",
     "text": [
      "Rolling the dices....\n",
      "The value are:\n",
      "1\n",
      "5\n",
      "Roll the dice again? (yes or y)y\n",
      "Rolling the dices....\n",
      "The value are:\n",
      "4\n",
      "3\n",
      "Roll the dice again? (yes or y)n\n"
     ]
    }
   ],
   "source": [
    "import random\n",
    "\n",
    "# range of the values of a dice\n",
    "min_val = 1\n",
    "max_val = 6\n",
    "\n",
    "# to loop the rolling through user input\n",
    "roll_again ='yes'\n",
    "\n",
    "# loop]\n",
    "while roll_again =='yes' or roll_again =='y':\n",
    "    print('Rolling the dices....')\n",
    "    print('The value are:')\n",
    "    \n",
    "    # generatung and printing 1st random integer from 1 to 6\n",
    "    print(random.randint(min_val, max_val))\n",
    "    \n",
    "    # generating and printing 2nd random integer from 1 to 6\n",
    "    print(random.randint(min_val, max_val))\n",
    "    \n",
    "    # asking the user to roll the dice again. Any input other than yes or y will terminate the loop\n",
    "    roll_again= input('Roll the dice again? (yes or y)')\n",
    "    "
   ]
  },
  {
   "cell_type": "code",
   "execution_count": null,
   "metadata": {},
   "outputs": [],
   "source": []
  }
 ],
 "metadata": {
  "kernelspec": {
   "display_name": "python3.7",
   "language": "python",
   "name": "python3.7"
  },
  "language_info": {
   "codemirror_mode": {
    "name": "ipython",
    "version": 3
   },
   "file_extension": ".py",
   "mimetype": "text/x-python",
   "name": "python",
   "nbconvert_exporter": "python",
   "pygments_lexer": "ipython3",
   "version": "3.7.6"
  }
 },
 "nbformat": 4,
 "nbformat_minor": 4
}
