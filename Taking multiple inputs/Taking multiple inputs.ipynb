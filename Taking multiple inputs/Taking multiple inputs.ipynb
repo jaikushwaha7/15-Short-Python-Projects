{
 "cells": [
  {
   "cell_type": "code",
   "execution_count": 1,
   "metadata": {},
   "outputs": [
    {
     "name": "stdout",
     "output_type": "stream",
     "text": [
      "Enter text:hi\n",
      "hi\n",
      "Enter text:how are you\n",
      "how are you\n",
      "Enter text:I am good\n",
      "I am good\n",
      "Enter text:stop\n"
     ]
    }
   ],
   "source": [
    "while True:\n",
    "    reply = input('Enter text:')\n",
    "    if reply == 'stop': break\n",
    "    print(reply)"
   ]
  }
 ],
 "metadata": {
  "kernelspec": {
   "display_name": "python3.7",
   "language": "python",
   "name": "python3.7"
  },
  "language_info": {
   "codemirror_mode": {
    "name": "ipython",
    "version": 3
   },
   "file_extension": ".py",
   "mimetype": "text/x-python",
   "name": "python",
   "nbconvert_exporter": "python",
   "pygments_lexer": "ipython3",
   "version": "3.7.6"
  }
 },
 "nbformat": 4,
 "nbformat_minor": 4
}
